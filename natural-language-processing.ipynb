{
 "cells": [
  {
   "cell_type": "markdown",
   "id": "8a6ad330",
   "metadata": {},
   "source": [
    "# Text Preprocessing in Python"
   ]
  },
  {
   "cell_type": "code",
   "execution_count": 1,
   "id": "8cbbfff0",
   "metadata": {},
   "outputs": [
    {
     "name": "stderr",
     "output_type": "stream",
     "text": [
      "[nltk_data] Downloading package punkt to /home/eosindo/nltk_data...\n",
      "[nltk_data]   Package punkt is already up-to-date!\n",
      "[nltk_data] Downloading package wordnet to /home/eosindo/nltk_data...\n",
      "[nltk_data]   Package wordnet is already up-to-date!\n",
      "[nltk_data] Downloading package omw-1.4 to /home/eosindo/nltk_data...\n",
      "[nltk_data]   Package omw-1.4 is already up-to-date!\n"
     ]
    }
   ],
   "source": [
    "# Import the necessary libraries\n",
    "import nltk\n",
    "nltk.download('punkt')\n",
    "nltk.download('wordnet')\n",
    "nltk.download('omw-1.4')\n",
    "import string\n",
    "import re"
   ]
  },
  {
   "cell_type": "code",
   "execution_count": 2,
   "id": "4282d122",
   "metadata": {},
   "outputs": [
    {
     "data": {
      "text/plain": [
       "\"hey, did you know that the summer break is coming? amazing right !! it's only 5 more days !!\""
      ]
     },
     "execution_count": 2,
     "metadata": {},
     "output_type": "execute_result"
    }
   ],
   "source": [
    "# We lowercase the text to reduce the size of the vocabulary of our text data\n",
    "def text_lowercase(text):\n",
    "    return text.lower()\n",
    "\n",
    "input_str = \"Hey, did you know that the summer break is coming? Amazing right !! It's only 5 more days !!\"\n",
    "text_lowercase(input_str)\n"
   ]
  },
  {
   "cell_type": "markdown",
   "id": "4bd17a01",
   "metadata": {},
   "source": [
    "### Remove numbers"
   ]
  },
  {
   "cell_type": "code",
   "execution_count": 3,
   "id": "c1a00b6e",
   "metadata": {},
   "outputs": [
    {
     "data": {
      "text/plain": [
       "'There are  balls in this bag, and  in the other one.'"
      ]
     },
     "execution_count": 3,
     "metadata": {},
     "output_type": "execute_result"
    }
   ],
   "source": [
    "# We can either remove numbers or convert the numbers into their textual representations. We can use regular expressions to remove the numbers.\n",
    "#Remove numbers\n",
    "def remove_numbers(text):\n",
    "    results = re.sub(r'\\d+', '', text)\n",
    "    return results\n",
    "\n",
    "input_str = \"There are 3 balls in this bag, and 12 in the other one.\"\n",
    "remove_numbers(input_str)"
   ]
  },
  {
   "cell_type": "markdown",
   "id": "6331e6e7",
   "metadata": {},
   "source": [
    "#### We can also convert the numbers into words. This can be done by using the inflect library."
   ]
  },
  {
   "cell_type": "code",
   "execution_count": 4,
   "id": "bec21994",
   "metadata": {},
   "outputs": [
    {
     "data": {
      "text/plain": [
       "'There are three balls in this bag, and twelve in the other one.'"
      ]
     },
     "execution_count": 4,
     "metadata": {},
     "output_type": "execute_result"
    }
   ],
   "source": [
    "# import the inflect library\n",
    "import inflect\n",
    "p = inflect.engine()\n",
    "\n",
    "# convert number into words\n",
    "def convert_number(text):\n",
    "    # Split string into list of words\n",
    "    temp_str = text.split()\n",
    "    # initialise empty list\n",
    "    new_string = []\n",
    "    \n",
    "    for word in temp_str:\n",
    "        # if word is digit, convert the digit\n",
    "        # to numbers and append into the new_string list\n",
    "        if word.isdigit():\n",
    "            temp = p.number_to_words(word)\n",
    "            new_string.append(temp)\n",
    "        \n",
    "        # append the word as it is\n",
    "        else:\n",
    "            new_string.append(word)\n",
    "            \n",
    "    # Join the words of new_string to form a string\n",
    "    temp_str = ' '.join(new_string)\n",
    "    return temp_str\n",
    "\n",
    "input_str = 'There are 3 balls in this bag, and 12 in the other one.'\n",
    "convert_number(input_str)"
   ]
  },
  {
   "cell_type": "markdown",
   "id": "c82d462b",
   "metadata": {},
   "source": [
    "#### Remove punctuation:"
   ]
  },
  {
   "cell_type": "markdown",
   "id": "3d8c4e80",
   "metadata": {},
   "source": [
    "We remove punctuations so that we dont have different forms of the same word. If we dont remove the punctuation, then been. been. been! will be treated separately."
   ]
  },
  {
   "cell_type": "code",
   "execution_count": 5,
   "id": "4ee37d6b",
   "metadata": {},
   "outputs": [
    {
     "data": {
      "text/plain": [
       "'Hey did you know that the summer break is coming Amazing right  Its only 5 more days '"
      ]
     },
     "execution_count": 5,
     "metadata": {},
     "output_type": "execute_result"
    }
   ],
   "source": [
    "# remove punctuation\n",
    "def remove_punctuation(text):\n",
    "    translator = str.maketrans('', '', string.punctuation)\n",
    "    return text.translate(translator)\n",
    "\n",
    "input_str = \"Hey, did you know that the summer break is coming? Amazing right !! It's only 5 more days !!\"\n",
    "remove_punctuation(input_str)"
   ]
  },
  {
   "cell_type": "markdown",
   "id": "a8390a82",
   "metadata": {},
   "source": [
    "#### Remove whitespaces"
   ]
  },
  {
   "cell_type": "raw",
   "id": "d3204458",
   "metadata": {},
   "source": [
    "We can use the join and split function to remove all the white spaces in a string"
   ]
  },
  {
   "cell_type": "code",
   "execution_count": 6,
   "id": "d72bfc52",
   "metadata": {},
   "outputs": [
    {
     "data": {
      "text/plain": [
       "\"we don't need the given questions\""
      ]
     },
     "execution_count": 6,
     "metadata": {},
     "output_type": "execute_result"
    }
   ],
   "source": [
    "# Remove whitespace from text \n",
    "def remove_whitespace(text):\n",
    "    return \" \".join(text.split())\n",
    "\n",
    "input_str = \"   we don't need   the given questions\"\n",
    "remove_whitespace(input_str)"
   ]
  },
  {
   "cell_type": "markdown",
   "id": "37bb6213",
   "metadata": {},
   "source": [
    "### Remove default stopwords"
   ]
  },
  {
   "cell_type": "raw",
   "id": "f7490706",
   "metadata": {},
   "source": [
    "Stopwords are words that do not contribute to the meaning of a sentence. Hence, they can safely be removed without causing any change in the meaning of the sentence. The NLTK library has a set of stopwords and we can use these to remove stopwords from our text and return a list of word tokens."
   ]
  },
  {
   "cell_type": "code",
   "execution_count": 7,
   "id": "f38700e7",
   "metadata": {},
   "outputs": [
    {
     "data": {
      "text/plain": [
       "['This', 'sample', 'sentence', 'going', 'remove', 'stopwords', '.']"
      ]
     },
     "execution_count": 7,
     "metadata": {},
     "output_type": "execute_result"
    }
   ],
   "source": [
    "\n",
    "from nltk.corpus import stopwords\n",
    "from nltk.tokenize import word_tokenize\n",
    " \n",
    "# remove stopwords function\n",
    "def remove_stopwords(text):\n",
    "    stop_words = set(stopwords.words(\"english\"))\n",
    "    word_tokens = word_tokenize(text)\n",
    "    filtered_text = [word for word in word_tokens if word not in stop_words]\n",
    "    return filtered_text\n",
    " \n",
    "example_text = \"This is a sample sentence and we are going to remove the stopwords from this.\"\n",
    "remove_stopwords(example_text)"
   ]
  },
  {
   "cell_type": "markdown",
   "id": "a74d565a",
   "metadata": {},
   "source": [
    "### Stemming"
   ]
  },
  {
   "cell_type": "raw",
   "id": "69b4b035",
   "metadata": {},
   "source": [
    "Stemming is the process of getting the root form of a word. Stem or root is the part to which inflectional affixes(-ed, -ize, -de, -s, etc.) are added. The stem of a word is created by removing the prefix or suffix of a word. So, stemming a word may not result in actual words."
   ]
  },
  {
   "cell_type": "raw",
   "id": "7ae9eec7",
   "metadata": {},
   "source": [
    "If the text is not in tokens, then we need to convert it into tokens. After we have converted strings of text into tokens, we can convert the word tokens into their root form. There are mainly three algorithms for stemming. These are the Porter Stemmer, the Snowball Stemmer and the Lancaster Stemmer. Porter Stemmer is most common among them."
   ]
  },
  {
   "cell_type": "code",
   "execution_count": 8,
   "id": "7eee852b",
   "metadata": {},
   "outputs": [
    {
     "data": {
      "text/plain": [
       "['data',\n",
       " 'scienc',\n",
       " 'use',\n",
       " 'scientif',\n",
       " 'method',\n",
       " 'algorithm',\n",
       " 'and',\n",
       " 'mani',\n",
       " 'type',\n",
       " 'of',\n",
       " 'process']"
      ]
     },
     "execution_count": 8,
     "metadata": {},
     "output_type": "execute_result"
    }
   ],
   "source": [
    "from nltk.stem.porter import PorterStemmer\n",
    "from nltk.tokenize import word_tokenize\n",
    "stemmer = PorterStemmer()\n",
    "\n",
    "# Stem words in the list of tokenized words\n",
    "def stem_words(text):\n",
    "    word_tokens = word_tokenize(text)\n",
    "    stems = [stemmer.stem(word) for word in word_tokens]\n",
    "    return stems\n",
    "\n",
    "\n",
    "text = 'data science uses scientific methods algorithms and many types of processes'\n",
    "stem_words(text)"
   ]
  },
  {
   "cell_type": "markdown",
   "id": "642cf074",
   "metadata": {},
   "source": [
    "### Lemmatization"
   ]
  },
  {
   "cell_type": "raw",
   "id": "7da16c7e",
   "metadata": {},
   "source": [
    "Like stemming, lemmatization also converts a word to its root form. The only difference is that lemmatization ensures that the root word belongs to the languange.We will get valid words if we use lemmatization. In NLTK, we use the WordNetLemmatizer to get the lemmas of words. We also need to provide a context for the lemmatization. So, we add the part-of-speech as parameter."
   ]
  },
  {
   "cell_type": "code",
   "execution_count": 9,
   "id": "2afa492b",
   "metadata": {},
   "outputs": [
    {
     "data": {
      "text/plain": [
       "['data',\n",
       " 'science',\n",
       " 'use',\n",
       " 'scientific',\n",
       " 'methods',\n",
       " 'algorithms',\n",
       " 'and',\n",
       " 'many',\n",
       " 'type',\n",
       " 'of',\n",
       " 'process']"
      ]
     },
     "execution_count": 9,
     "metadata": {},
     "output_type": "execute_result"
    }
   ],
   "source": [
    "from nltk.stem import WordNetLemmatizer\n",
    "from nltk.tokenize import word_tokenize\n",
    "lemmatizer = WordNetLemmatizer()\n",
    "# lemmatize string\n",
    "def lemmatize_word(text):\n",
    "    word_tokens = word_tokenize(text)\n",
    "    # provide context i.e. part-of-speech\n",
    "    lemmas = [lemmatizer.lemmatize(word, pos ='v') for word in word_tokens]\n",
    "    return lemmas\n",
    " \n",
    "text = 'data science uses scientific methods algorithms and many types of processes'\n",
    "lemmatize_word(text)"
   ]
  },
  {
   "cell_type": "code",
   "execution_count": null,
   "id": "10c6b60a",
   "metadata": {},
   "outputs": [],
   "source": []
  }
 ],
 "metadata": {
  "kernelspec": {
   "display_name": "Python 3 (ipykernel)",
   "language": "python",
   "name": "python3"
  },
  "language_info": {
   "codemirror_mode": {
    "name": "ipython",
    "version": 3
   },
   "file_extension": ".py",
   "mimetype": "text/x-python",
   "name": "python",
   "nbconvert_exporter": "python",
   "pygments_lexer": "ipython3",
   "version": "3.9.12"
  }
 },
 "nbformat": 4,
 "nbformat_minor": 5
}
